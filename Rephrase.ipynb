{
 "cells": [
  {
   "cell_type": "markdown",
   "metadata": {},
   "source": [
    "### Example code for extracting trees from a trained model file."
   ]
  },
  {
   "cell_type": "code",
   "execution_count": 1,
   "metadata": {},
   "outputs": [],
   "source": [
    "import torch\n",
    "from snli.model import SNLIModel\n",
    "from utils.vocab import Vocab\n",
    "import torch.nn as nn\n",
    "import torch.nn.functional as F"
   ]
  },
  {
   "cell_type": "code",
   "execution_count": 2,
   "metadata": {},
   "outputs": [
    {
     "data": {
      "text/plain": [
       "SNLIModel(\n",
       "  (word_embedding): Embedding(43439, 300)\n",
       "  (encoder): BinaryTreeLSTM(\n",
       "    (att_wt): Linear(in_features=600, out_features=1, bias=True)\n",
       "    (pre_att): Linear(in_features=600, out_features=600, bias=True)\n",
       "    (leaf_rnn_cell): LSTMCell(300, 300)\n",
       "    (leaf_rnn_cell_bw): LSTMCell(300, 300)\n",
       "    (treelstm_layer): BinaryTreeLSTMLayer(\n",
       "      (comp_linear): Linear(in_features=1200, out_features=3000, bias=True)\n",
       "    )\n",
       "  )\n",
       "  (classifier): SNLIClassifier(\n",
       "    (bn_mlp_input): BatchNorm1d(2400, eps=1e-05, momentum=0.1, affine=True, track_running_stats=True)\n",
       "    (bn_mlp_output): BatchNorm1d(1024, eps=1e-05, momentum=0.1, affine=True, track_running_stats=True)\n",
       "    (dropout): Dropout(p=0.13)\n",
       "    (mlp): Sequential(\n",
       "      (0): Sequential(\n",
       "        (0): Linear(in_features=2400, out_features=1024, bias=True)\n",
       "        (1): ReLU()\n",
       "      )\n",
       "    )\n",
       "    (clf_linear): Linear(in_features=1024, out_features=3, bias=True)\n",
       "  )\n",
       "  (dropout): Dropout(p=0.13)\n",
       ")"
      ]
     },
     "execution_count": 2,
     "metadata": {},
     "output_type": "execute_result"
    }
   ],
   "source": [
    "torch.set_grad_enabled(False)\n",
    "vocab = Vocab.from_file('pretrained/vocab.pkl', add_pad=True, add_unk=True)\n",
    "model = SNLIModel(prim_num_classes=3, num_words=len(vocab), word_dim=300, hidden_dim=300,\n",
    "                  clf_hidden_dim=1024, clf_num_layers=1, bidirectional=True, dropout_prob=0.13,\n",
    "                  use_leaf_rnn=True, intra_attention=True, use_batchnorm=True)\n",
    "model.load_state_dict(torch.load('pretrained/model.pkl', map_location='cpu'))\n",
    "model.eval()"
   ]
  },
  {
   "cell_type": "code",
   "execution_count": 3,
   "metadata": {},
   "outputs": [],
   "source": [
    "def prepare_input(sent_words):\n",
    "    word_ids = torch.LongTensor([[vocab.word_to_id(w) for w in sent_words]])\n",
    "    length = torch.LongTensor([len(sent_words)])\n",
    "    word_ids_emb = model.word_embedding(word_ids)\n",
    "    return word_ids_emb, length"
   ]
  },
  {
   "cell_type": "code",
   "execution_count": 6,
   "metadata": {},
   "outputs": [],
   "source": [
    "from nltk.tokenize import word_tokenize\n",
    "def get_embedding(sentence):\n",
    "    words = word_tokenize(sentence.lower())\n",
    "    enc_input, enc_length = prepare_input(words)\n",
    "    h = model.encoder.forward(enc_input, enc_length, return_select_masks=True)[0]\n",
    "    return h"
   ]
  },
  {
   "cell_type": "code",
   "execution_count": 7,
   "metadata": {},
   "outputs": [],
   "source": [
    "h = get_embedding('I like to drink Orange Juice.') # Correct Answer\n",
    "h1 = get_embedding('I love orange juice. ') # Acceptable answer\n",
    "h2 = get_embedding('I like drinking orange juice. ')# Acceptable answer\n",
    "h3 = get_embedding('I like to eat Oranges. ')# Non Acceptable answer\n",
    "h4 = get_embedding('I do not like orange juice. ')#Non Acceptable answer"
   ]
  },
  {
   "cell_type": "code",
   "execution_count": 8,
   "metadata": {},
   "outputs": [],
   "source": [
    "cos = nn.CosineSimilarity(dim=1, eps=1e-6)"
   ]
  },
  {
   "cell_type": "code",
   "execution_count": 9,
   "metadata": {},
   "outputs": [
    {
     "name": "stdout",
     "output_type": "stream",
     "text": [
      "torch.Size([1, 600])\n"
     ]
    }
   ],
   "source": [
    "print(h.shape)"
   ]
  },
  {
   "cell_type": "code",
   "execution_count": 10,
   "metadata": {},
   "outputs": [
    {
     "name": "stdout",
     "output_type": "stream",
     "text": [
      "tensor([0.8091])\n",
      "tensor([0.9130])\n",
      "tensor([0.6160])\n",
      "tensor([0.5849])\n"
     ]
    }
   ],
   "source": [
    "print(cos(h,h1))\n",
    "print(cos(h,h2))\n",
    "print(cos(h,h3))\n",
    "print(cos(h,h4))"
   ]
  },
  {
   "cell_type": "code",
   "execution_count": null,
   "metadata": {},
   "outputs": [],
   "source": [
    "import spacy\n",
    "\n",
    "nlp = spacy.load(\"en_core_web_md\")  # make sure to use larger model!\n",
    "tokens = nlp(\"dog cat banana\")`"
   ]
  },
  {
   "cell_type": "code",
   "execution_count": null,
   "metadata": {},
   "outputs": [],
   "source": [
    "!python3 -m spacy download en_core_web_md"
   ]
  },
  {
   "cell_type": "code",
   "execution_count": null,
   "metadata": {},
   "outputs": [],
   "source": [
    "!pip3 install https://github.com/explosion/spacy-models/releases/download/en_core_web_sm-2.2.0/en_core_web_sm-2.2.0.tar.gz"
   ]
  },
  {
   "cell_type": "code",
   "execution_count": null,
   "metadata": {},
   "outputs": [],
   "source": [
    "import spacy\n",
    "import en_core_web_md\n",
    "\n",
    "nlp = en_core_web_md.load()  # make sure to use larger model!\n",
    "tokens = nlp(\"dog cat banana\")"
   ]
  },
  {
   "cell_type": "code",
   "execution_count": null,
   "metadata": {},
   "outputs": [],
   "source": [
    "h = nlp('I like to drink Orange Juice.')\n",
    "h1 = nlp('I love orange juice. ')\n",
    "h2 = nlp('I like drinking orange juice. ')\n",
    "h3 = nlp('I like to eat Oranges. ')\n",
    "h4 = nlp('I do not like orange juice. ')"
   ]
  },
  {
   "cell_type": "code",
   "execution_count": null,
   "metadata": {},
   "outputs": [],
   "source": [
    "print(h.similarity(h1))\n",
    "print(h.similarity(h2))\n",
    "print(h.similarity(h3))\n",
    "print(h.similarity(h4))"
   ]
  },
  {
   "cell_type": "code",
   "execution_count": null,
   "metadata": {},
   "outputs": [],
   "source": []
  }
 ],
 "metadata": {
  "kernelspec": {
   "display_name": "Python 3",
   "language": "python",
   "name": "python3"
  },
  "language_info": {
   "codemirror_mode": {
    "name": "ipython",
    "version": 3
   },
   "file_extension": ".py",
   "mimetype": "text/x-python",
   "name": "python",
   "nbconvert_exporter": "python",
   "pygments_lexer": "ipython3",
   "version": "3.7.1"
  }
 },
 "nbformat": 4,
 "nbformat_minor": 2
}
